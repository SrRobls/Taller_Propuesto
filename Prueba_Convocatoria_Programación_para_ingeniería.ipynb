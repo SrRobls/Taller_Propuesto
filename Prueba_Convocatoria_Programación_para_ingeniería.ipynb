{
  "cells": [
    {
      "cell_type": "markdown",
      "source": [
        "# Taller de Estilo de Código PEP 8 en Python\n",
        "\n",
        "### ¿Qué es PEP 8?\n",
        "\n",
        "PEP 8 es el \"Python Enhancement Proposal 8\", una guía de estilo para escribir código Python de manera uniforme y coherente. Fue creado para mejorar la legibilidad del código y hacer que sea más fácil de entender y mantener, especialmente en proyectos colaborativos.\n",
        "\n",
        "### Importancia del Estilo de Código\n",
        "\n",
        "¿Por qué es importante seguir un estilo de código? Aquí hay algunas razones clave:\n",
        "\n",
        "1. **Legibilidad:** Un código limpio y bien estructurado es más fácil de leer y entender, lo que facilita la colaboración entre desarrolladores y el mantenimiento a largo plazo.\n",
        "\n",
        "2. **Consistencia:** Cuando todos los desarrolladores siguen las mismas pautas, el código se vuelve consistente en todo el proyecto. Esto reduce la confusión y los errores causados por diferentes estilos.\n",
        "\n",
        "3. **Reducir Errores:** Un código bien formateado y organizado tiende a contener menos errores. Además, facilita la detección y corrección de errores cuando ocurren.\n",
        "\n",
        "4. **Mejores Prácticas:** PEP 8 incorpora años de experiencia y las mejores prácticas de la comunidad Python. Al seguirlo, estás adoptando prácticas respaldadas por expertos.\n",
        "\n"
      ],
      "metadata": {
        "id": "dq-EXiKdAynR"
      }
    },
    {
      "cell_type": "markdown",
      "source": [
        "## Principales Pautas y Convenciones de PEP 8\n",
        "\n",
        "### Comentarios en Python (Comentarios De una Sola Linea y Varias Lineas)\n",
        "\n",
        "Los comentarios son anotaciones en el código que no afectan la ejecución del programa, pero son útiles para explicar el código y proporcionar contexto.\n",
        "\n",
        "- En Python, los comentarios de una sola línea se crean utilizando el carácter \"#\" al principio de la línea:\n",
        "\n",
        "  ```python\n",
        "  # Este es un comentario de una sola línea\n",
        "  valor = 42  # Esto es un comentario al final de una línea de código\n",
        "  ```\n",
        "- Los comentarios de varias líneas son útiles para explicar bloques de código más grandes o proporcionar documentación detallada. Se pueden crear utilizando cadenas de triple comilla (\"\"\" Comentario \"\"\"):\n",
        "  ```python\n",
        "  \"\"\"\n",
        "  Este es un comentario de varias líneas.\n",
        "  Es útil cuando necesitas explicar en detalle\n",
        "  el propósito o funcionamiento de un bloque de código.\n",
        "  \"\"\"\n",
        "  ```\n",
        "### Nombres de Variables y Funciones\n",
        "\n",
        "- Utiliza nombres descriptivos en minúsculas para variables y funciones. Separa las palabras con guiones bajos (\"_\") para mejorar la legibilidad, además de escribirla en minusculas.\n",
        "  ```python\n",
        "  # Incorrecto:\n",
        "  x = 10\n",
        "  valorVariable = 5\n",
        "  \n",
        "  # Correcto:\n",
        "  edad_persona = 25\n",
        "  total_compra = 50\n",
        "  ```\n",
        "### Indentación y Espacios\n",
        "- Utiliza espacios en lugar de tabulaciones para la indentación. Se recomiendan 4 espacios por nivel de indentación.\n",
        "- Deja una línea en blanco después de la definición de funciones y clases.\n",
        "  ```python\n",
        "  # Incorrecto:\n",
        "  if condicion:\n",
        "  \\tprint(\"Hola\")\n",
        "\n",
        "  # Correcto:\n",
        "  if condicion:\n",
        "    print(\"Hola\")\n",
        "  ```\n",
        "### Importaciones\n",
        "\n",
        "- Importa módulos en líneas separadas. Evita usar imports en línea.\n",
        "- Ordena las importaciones de manera jerárquica: primero importa los módulos de la biblioteca estándar (los que ya viene por defecto al instalar python), luego los módulos de terceros y finalmente los módulos locales.\n",
        "\n",
        "  ```python\n",
        "  # Incorrecto:\n",
        "  import os, sys\n",
        "  \n",
        "  # Correcto:\n",
        "  import os\n",
        "  import sys\n",
        "  \n",
        "  # Importaciones jerárquicas\n",
        "  import datetime\n",
        "  import numpy\n",
        "  import mi_modulo_local\n",
        "  ```\n",
        "### Espacios alrededor de Operadores\n",
        "- Coloca un espacio antes y después de operadores binarios (+, -, *, /, etc.).\n",
        "- No uses espacios alrededor de operadores de asignación (=) cuando estés especificando argumentos en una función.\n",
        "\n",
        "  ```python\n",
        "  # Incorrecto:\n",
        "  resultado=valor1+valor2\n",
        "  funcion(parametro = valor)\n",
        "\n",
        "  # Correcto:\n",
        "  resultado = valor1 + valor2\n",
        "  funcion(parametro=valor)\n",
        "  ```\n",
        "### Estilo de Rompimiento en Operadores Binarios\n",
        "\n",
        "- Se recomienda seguir la convención matemática. Los operadores se mantienen cerca de sus operandos y se rompen antes de las operaciones, facilitando la identificación de las sumas y restas.\n",
        "\n",
        "  ```python\n",
        "  # Incorrecto\n",
        "  income = (gross_wages +\n",
        "          taxable_interest +\n",
        "          (dividends - qualified_dividends) -\n",
        "          ira_deduction -\n",
        "          student_loan_interest)\n",
        "  # Correcto\n",
        "  income = (gross_wages\n",
        "          + taxable_interest\n",
        "          + (dividends - qualified_dividends)\n",
        "          - ira_deduction\n",
        "          - student_loan_interest)\n",
        "  ```\n",
        "\n",
        "  ### Evita Espacios Innecesarios\n",
        "\n",
        " Evita el uso de espacios adicionales en las siguientes situaciones:\n",
        "\n",
        "\n",
        "- **Inmediatamente dentro de paréntesis, corchetes o llaves:**\n",
        "```python\n",
        "  # Correcto:\n",
        "  spam(ham[1], {eggs: 2})\n",
        "  # Incorrecto:\n",
        "  spam( ham[ 1 ], { eggs: 2 } )\n",
        "```\n",
        "- **Entre una coma final y un paréntesis de cierre siguiente:**\n",
        "```python\n",
        "  # Correcto:\n",
        "  foo = (0,)\n",
        "  # Incorrecto:\n",
        "  bar = (0, )\n",
        "```\n",
        "- **Inmediatamente antes de una coma, punto y coma o dos puntos:**\n",
        "```python\n",
        "  # Correcto:\n",
        "  if x == 4: print(x, y); x, y = y, x\n",
        "  # Incorrecto:\n",
        "  if x == 4 : print(x , y) ; x , y = y , x\n",
        "```\n",
        "- **Inmediatamente antes del paréntesis de apertura que inicia una indexación o rebanado:**\n",
        "```python\n",
        "  # Correcto:\n",
        "  dct['key'] = lst[index]\n",
        "  # Incorrecto:\n",
        "  dct ['key'] = lst [index]\n",
        "```\n",
        "\n",
        "Estos son las pautas principales de PEP 8, para mayor información y claridad sobre el buen uso de esta, ir a https://peps.python.org/pep-0008/\n",
        "\n"
      ],
      "metadata": {
        "id": "_aLaLNxVDUwk"
      }
    },
    {
      "cell_type": "markdown",
      "source": [
        "## Ejemplo\n",
        "creemos una función que cálcule la hipotenusa de un triangulo dados los catetos correspondientes"
      ],
      "metadata": {
        "id": "v4V33HdraO4l"
      }
    },
    {
      "cell_type": "code",
      "source": [
        "import math, numpy\n",
        "def CalH(a,b):\n",
        " R = math.sqrt(a**2 + b**2)\n",
        " OR = numpy.sqrt(a**2 + b**2)\n",
        " return (R, OR)\n",
        "\n",
        "print(CalH(3, 5))"
      ],
      "metadata": {
        "colab": {
          "base_uri": "https://localhost:8080/"
        },
        "id": "yW46Rh8saSC5",
        "outputId": "64f81a63-1037-43de-d619-835fcc474cb2"
      },
      "execution_count": null,
      "outputs": [
        {
          "output_type": "stream",
          "name": "stdout",
          "text": [
            "(5.830951894845301, 5.830951894845301)\n"
          ]
        }
      ]
    },
    {
      "cell_type": "markdown",
      "source": [
        "Notemos que el modo en el que se escrbió el código lo hace ver un poco \"brusco\" de ver e interpretar, además de que tiene muchas malas practicas y no se comenta su funcionamiento segun PEP 8.\n",
        "\n",
        "Entonces la forma correcta es:\n"
      ],
      "metadata": {
        "id": "FwFJrENLalwY"
      }
    },
    {
      "cell_type": "code",
      "source": [
        "import math\n",
        "import numpy\n",
        "\n",
        "def calcular_hipotenusa(a, b):\n",
        "    \"\"\"\n",
        "    Calcula la hipotenusa de un triángulo rectángulo dados los catetos.\n",
        "\n",
        "    Args:\n",
        "        a (float): Longitud del primer cateto.\n",
        "        b (float): Longitud del segundo cateto.\n",
        "\n",
        "    Returns:\n",
        "        tuple: Una tupla que contiene la hipotenusa calculada con `math` y `numpy`.\n",
        "    \"\"\"\n",
        "    resultado_math = math.sqrt(a**2 + b**2)\n",
        "    resultado_numpy = numpy.sqrt(a**2 + b**2)\n",
        "    return (resultado_math, resultado_numpy)\n",
        "\n",
        "print(calcular_hipotenusa(3, 5))"
      ],
      "metadata": {
        "colab": {
          "base_uri": "https://localhost:8080/"
        },
        "id": "Ta_f7G_TbV6R",
        "outputId": "0c830f98-8fdc-41c1-b486-a00544da7daa"
      },
      "execution_count": null,
      "outputs": [
        {
          "output_type": "stream",
          "name": "stdout",
          "text": [
            "(5.830951894845301, 5.830951894845301)\n"
          ]
        }
      ]
    },
    {
      "cell_type": "markdown",
      "source": [
        "## Ejercicio Práctico: Aplicando Pautas de PEP 8\n",
        "\n",
        "### Calculadora de Impuestos\n",
        "\n",
        "En este ejercicio, practicaremos la aplicación de las pautas de estilo de PEP 8 en un programa simple que calcula impuestos.\n",
        "\n",
        "**Instrucciones:**\n",
        "\n",
        "1. Utiliza las pautas de PEP 8 para nombrar variables y funciones.\n",
        "2. Importa los módulos necesarios correctamente.\n",
        "3. Añade comentarios adecuados para explicar el código.\n",
        "4. Asegúrate de seguir el estilo de rompimiento en operadores binarios.\n"
      ],
      "metadata": {
        "id": "0c0frmJmcxGo"
      }
    },
    {
      "cell_type": "code",
      "source": [
        "# Importa el módulo math para cálculos matemáticos\n",
        "import math\n",
        "\n",
        "def calcular_impuesto(income, tax_rate):\n",
        "    \"\"\"\n",
        "    Calcula el impuesto a pagar dado un ingreso y una tasa impositiva.\n",
        "\n",
        "    Args:\n",
        "        income (float): Ingreso total.\n",
        "        tax_rate (float): Tasa impositiva en decimal (por ejemplo, 0.20 para 20%).\n",
        "\n",
        "    Returns:\n",
        "        float: Impuesto a pagar.\n",
        "    \"\"\"\n",
        "    impuesto = income * tax_rate\n",
        "    return impuesto\n",
        "\n",
        "# Datos de entrada\n",
        "ingreso = 50000  # Ingresos en dólares\n",
        "tasa_impositiva = 0.15  # Tasa impositiva del 15%\n",
        "\n",
        "# Cálculo del impuesto\n",
        "impuesto_a_pagar = calcular_impuesto(ingreso, tasa_impositiva)\n",
        "\n",
        "# Mostrar el resultado\n",
        "print(\"Impuesto a pagar:\", impuesto_a_pagar)"
      ],
      "metadata": {
        "colab": {
          "base_uri": "https://localhost:8080/"
        },
        "id": "otdzeg4nc4GT",
        "outputId": "b55976e8-9bfb-44ad-be9f-be262b13d6d2"
      },
      "execution_count": null,
      "outputs": [
        {
          "output_type": "stream",
          "name": "stdout",
          "text": [
            "Impuesto a pagar: 7500.0\n"
          ]
        }
      ]
    },
    {
      "cell_type": "markdown",
      "source": [],
      "metadata": {
        "id": "xc-A_rDac_t1"
      }
    }
  ],
  "metadata": {
    "colab": {
      "provenance": []
    },
    "kernelspec": {
      "display_name": "Python 3",
      "name": "python3"
    }
  },
  "nbformat": 4,
  "nbformat_minor": 0
}